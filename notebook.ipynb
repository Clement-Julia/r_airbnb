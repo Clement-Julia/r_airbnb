{
 "cells": [
  {
   "cell_type": "code",
   "execution_count": 24,
   "metadata": {},
   "outputs": [],
   "source": [
    "import pandas as pd\n",
    "import numpy as np\n",
    "import matplotlib.pyplot as plt"
   ]
  },
  {
   "cell_type": "code",
   "execution_count": 25,
   "metadata": {},
   "outputs": [],
   "source": [
    "df_lyon = pd.read_csv('Data/Lyon/listings.csv')"
   ]
  },
  {
   "cell_type": "code",
   "execution_count": 20,
   "metadata": {},
   "outputs": [
    {
     "name": "stdout",
     "output_type": "stream",
     "text": [
      "Le fichier Lyon contient 382187 lignes et 20 colonnes\n"
     ]
    }
   ],
   "source": [
    "print(\"Le fichier Lyon contient\", df_lyon.shape[0], \"lignes et\", df_lyon.shape[1], \"colonnes\")"
   ]
  },
  {
   "cell_type": "code",
   "execution_count": 21,
   "metadata": {},
   "outputs": [],
   "source": [
    "df_lyon = df_lyon.drop(columns=['neighbourhood_group', 'last_review', 'number_of_reviews_ltm', 'license', 'minimum_nights', ])"
   ]
  },
  {
   "cell_type": "code",
   "execution_count": 22,
   "metadata": {},
   "outputs": [
    {
     "data": {
      "text/plain": [
       "Index(['id', 'name', 'host_id', 'host_name', 'neighbourhood', 'latitude',\n",
       "       'longitude', 'room_type', 'price', 'number_of_reviews',\n",
       "       'reviews_per_month', 'calculated_host_listings_count',\n",
       "       'availability_365', 'listing_id', 'date'],\n",
       "      dtype='object')"
      ]
     },
     "execution_count": 22,
     "metadata": {},
     "output_type": "execute_result"
    }
   ],
   "source": [
    "df_lyon.columns"
   ]
  },
  {
   "cell_type": "code",
   "execution_count": 23,
   "metadata": {},
   "outputs": [
    {
     "name": "stdout",
     "output_type": "stream",
     "text": [
      "996\n"
     ]
    },
    {
     "data": {
      "text/html": [
       "<div>\n",
       "<style scoped>\n",
       "    .dataframe tbody tr th:only-of-type {\n",
       "        vertical-align: middle;\n",
       "    }\n",
       "\n",
       "    .dataframe tbody tr th {\n",
       "        vertical-align: top;\n",
       "    }\n",
       "\n",
       "    .dataframe thead th {\n",
       "        text-align: right;\n",
       "    }\n",
       "</style>\n",
       "<table border=\"1\" class=\"dataframe\">\n",
       "  <thead>\n",
       "    <tr style=\"text-align: right;\">\n",
       "      <th></th>\n",
       "      <th>id</th>\n",
       "      <th>name</th>\n",
       "      <th>host_id</th>\n",
       "      <th>host_name</th>\n",
       "      <th>neighbourhood</th>\n",
       "      <th>latitude</th>\n",
       "      <th>longitude</th>\n",
       "      <th>room_type</th>\n",
       "      <th>price</th>\n",
       "      <th>number_of_reviews</th>\n",
       "      <th>reviews_per_month</th>\n",
       "      <th>calculated_host_listings_count</th>\n",
       "      <th>availability_365</th>\n",
       "      <th>listing_id</th>\n",
       "      <th>date</th>\n",
       "    </tr>\n",
       "  </thead>\n",
       "  <tbody>\n",
       "    <tr>\n",
       "      <th>0</th>\n",
       "      <td>831713</td>\n",
       "      <td>645 sq ft (60m²)  apartment downtown lyon  2BR...</td>\n",
       "      <td>4355017</td>\n",
       "      <td>Marc</td>\n",
       "      <td>5e Arrondissement</td>\n",
       "      <td>45.75673</td>\n",
       "      <td>4.81539</td>\n",
       "      <td>Entire home/apt</td>\n",
       "      <td>72.0</td>\n",
       "      <td>54</td>\n",
       "      <td>0.38</td>\n",
       "      <td>1</td>\n",
       "      <td>309</td>\n",
       "      <td>831713</td>\n",
       "      <td>2013-01-31</td>\n",
       "    </tr>\n",
       "    <tr>\n",
       "      <th>1</th>\n",
       "      <td>831713</td>\n",
       "      <td>645 sq ft (60m²)  apartment downtown lyon  2BR...</td>\n",
       "      <td>4355017</td>\n",
       "      <td>Marc</td>\n",
       "      <td>5e Arrondissement</td>\n",
       "      <td>45.75673</td>\n",
       "      <td>4.81539</td>\n",
       "      <td>Entire home/apt</td>\n",
       "      <td>72.0</td>\n",
       "      <td>54</td>\n",
       "      <td>0.38</td>\n",
       "      <td>1</td>\n",
       "      <td>309</td>\n",
       "      <td>831713</td>\n",
       "      <td>2013-06-23</td>\n",
       "    </tr>\n",
       "    <tr>\n",
       "      <th>2</th>\n",
       "      <td>831713</td>\n",
       "      <td>645 sq ft (60m²)  apartment downtown lyon  2BR...</td>\n",
       "      <td>4355017</td>\n",
       "      <td>Marc</td>\n",
       "      <td>5e Arrondissement</td>\n",
       "      <td>45.75673</td>\n",
       "      <td>4.81539</td>\n",
       "      <td>Entire home/apt</td>\n",
       "      <td>72.0</td>\n",
       "      <td>54</td>\n",
       "      <td>0.38</td>\n",
       "      <td>1</td>\n",
       "      <td>309</td>\n",
       "      <td>831713</td>\n",
       "      <td>2013-09-02</td>\n",
       "    </tr>\n",
       "    <tr>\n",
       "      <th>3</th>\n",
       "      <td>831713</td>\n",
       "      <td>645 sq ft (60m²)  apartment downtown lyon  2BR...</td>\n",
       "      <td>4355017</td>\n",
       "      <td>Marc</td>\n",
       "      <td>5e Arrondissement</td>\n",
       "      <td>45.75673</td>\n",
       "      <td>4.81539</td>\n",
       "      <td>Entire home/apt</td>\n",
       "      <td>72.0</td>\n",
       "      <td>54</td>\n",
       "      <td>0.38</td>\n",
       "      <td>1</td>\n",
       "      <td>309</td>\n",
       "      <td>831713</td>\n",
       "      <td>2013-10-01</td>\n",
       "    </tr>\n",
       "    <tr>\n",
       "      <th>4</th>\n",
       "      <td>831713</td>\n",
       "      <td>645 sq ft (60m²)  apartment downtown lyon  2BR...</td>\n",
       "      <td>4355017</td>\n",
       "      <td>Marc</td>\n",
       "      <td>5e Arrondissement</td>\n",
       "      <td>45.75673</td>\n",
       "      <td>4.81539</td>\n",
       "      <td>Entire home/apt</td>\n",
       "      <td>72.0</td>\n",
       "      <td>54</td>\n",
       "      <td>0.38</td>\n",
       "      <td>1</td>\n",
       "      <td>309</td>\n",
       "      <td>831713</td>\n",
       "      <td>2014-01-05</td>\n",
       "    </tr>\n",
       "  </tbody>\n",
       "</table>\n",
       "</div>"
      ],
      "text/plain": [
       "       id                                               name  host_id  \\\n",
       "0  831713  645 sq ft (60m²)  apartment downtown lyon  2BR...  4355017   \n",
       "1  831713  645 sq ft (60m²)  apartment downtown lyon  2BR...  4355017   \n",
       "2  831713  645 sq ft (60m²)  apartment downtown lyon  2BR...  4355017   \n",
       "3  831713  645 sq ft (60m²)  apartment downtown lyon  2BR...  4355017   \n",
       "4  831713  645 sq ft (60m²)  apartment downtown lyon  2BR...  4355017   \n",
       "\n",
       "  host_name      neighbourhood  latitude  longitude        room_type  price  \\\n",
       "0      Marc  5e Arrondissement  45.75673    4.81539  Entire home/apt   72.0   \n",
       "1      Marc  5e Arrondissement  45.75673    4.81539  Entire home/apt   72.0   \n",
       "2      Marc  5e Arrondissement  45.75673    4.81539  Entire home/apt   72.0   \n",
       "3      Marc  5e Arrondissement  45.75673    4.81539  Entire home/apt   72.0   \n",
       "4      Marc  5e Arrondissement  45.75673    4.81539  Entire home/apt   72.0   \n",
       "\n",
       "   number_of_reviews  reviews_per_month  calculated_host_listings_count  \\\n",
       "0                 54               0.38                               1   \n",
       "1                 54               0.38                               1   \n",
       "2                 54               0.38                               1   \n",
       "3                 54               0.38                               1   \n",
       "4                 54               0.38                               1   \n",
       "\n",
       "   availability_365  listing_id        date  \n",
       "0               309      831713  2013-01-31  \n",
       "1               309      831713  2013-06-23  \n",
       "2               309      831713  2013-09-02  \n",
       "3               309      831713  2013-10-01  \n",
       "4               309      831713  2014-01-05  "
      ]
     },
     "execution_count": 23,
     "metadata": {},
     "output_type": "execute_result"
    }
   ],
   "source": [
    "print(df_lyon.duplicated().sum())\n",
    "\n",
    "if(df_lyon.duplicated().sum() > 0):\n",
    "    df_lyon = df_lyon.drop_duplicates()\n",
    "df_lyon.head()"
   ]
  },
  {
   "cell_type": "code",
   "execution_count": null,
   "metadata": {},
   "outputs": [],
   "source": [
    "# import pandas as pd\n",
    "# from sklearn.model_selection import train_test_split\n",
    "# from sklearn.preprocessing import OneHotEncoder\n",
    "# from sklearn.compose import ColumnTransformer\n",
    "# from sklearn.pipeline import Pipeline\n",
    "# from sklearn.ensemble import RandomForestRegressor\n",
    "# from sklearn.metrics import mean_absolute_error\n",
    "# from sklearn.impute import SimpleImputer\n",
    "\n",
    "# # Charger les données\n",
    "# df = pd.read_csv('votre_fichier.csv')\n",
    "\n",
    "# # Sélectionner les colonnes utiles en excluant les identifiants, URL, et autres colonnes non pertinentes\n",
    "# X = df.drop(columns=['id', 'listing_url', 'scrape_id', 'last_scraped', 'source', 'name',\n",
    "#                      'description', 'neighborhood_overview', 'picture_url', 'host_id',\n",
    "#                      'host_url', 'host_name', 'host_since', 'host_location', 'host_about',\n",
    "#                      'host_response_time', 'host_thumbnail_url', 'host_picture_url',\n",
    "#                      'host_verifications', 'license', 'amenities', 'first_review', 'last_review',\n",
    "#                      'calendar_last_scraped', 'price'])\n",
    "\n",
    "# y = df['price']\n",
    "\n",
    "# # Identifier les colonnes numériques et catégorielles\n",
    "# numeric_features = X.select_dtypes(include=['int64', 'float64']).columns\n",
    "# categorical_features = X.select_dtypes(include=['object']).columns\n",
    "\n",
    "# # Créer les transformers pour le prétraitement\n",
    "# numeric_transformer = Pipeline(steps=[\n",
    "#     ('imputer', SimpleImputer(strategy='median'))\n",
    "# ])\n",
    "\n",
    "# categorical_transformer = Pipeline(steps=[\n",
    "#     ('imputer', SimpleImputer(strategy='constant', fill_value='missing')),\n",
    "#     ('onehot', OneHotEncoder(handle_unknown='ignore'))\n",
    "# ])\n",
    "\n",
    "# # Combiner les transformers\n",
    "# preprocessor = ColumnTransformer(\n",
    "#     transformers=[\n",
    "#         ('num', numeric_transformer, numeric_features),\n",
    "#         ('cat', categorical_transformer, categorical_features)\n",
    "#     ])\n",
    "\n",
    "# # Créer le pipeline avec le modèle\n",
    "# model = Pipeline(steps=[\n",
    "#     ('preprocessor', preprocessor),\n",
    "#     ('regressor', RandomForestRegressor())\n",
    "# ])\n",
    "\n",
    "# # Diviser les données en ensembles d'entraînement et de test\n",
    "# X_train, X_test, y_train, y_test = train_test_split(X, y, test_size=0.2)\n",
    "\n",
    "# # Entraîner le modèle\n",
    "# model.fit(X_train, y_train)\n",
    "\n",
    "# # Prédire et évaluer le modèle\n",
    "# y_pred = model.predict(X_test)\n",
    "# print(\"Erreur absolue moyenne :\", mean_absolute_error(y_test, y_pred))"
   ]
  }
 ],
 "metadata": {
  "kernelspec": {
   "display_name": ".venv",
   "language": "python",
   "name": "python3"
  },
  "language_info": {
   "codemirror_mode": {
    "name": "ipython",
    "version": 3
   },
   "file_extension": ".py",
   "mimetype": "text/x-python",
   "name": "python",
   "nbconvert_exporter": "python",
   "pygments_lexer": "ipython3",
   "version": "3.11.9"
  }
 },
 "nbformat": 4,
 "nbformat_minor": 2
}
